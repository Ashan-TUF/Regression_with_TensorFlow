{
  "nbformat": 4,
  "nbformat_minor": 0,
  "metadata": {
    "colab": {
      "provenance": [],
      "authorship_tag": "ABX9TyMZZcWTBkhQhlspv1bjU6fB",
      "include_colab_link": true
    },
    "kernelspec": {
      "name": "python3",
      "display_name": "Python 3"
    },
    "language_info": {
      "name": "python"
    }
  },
  "cells": [
    {
      "cell_type": "markdown",
      "metadata": {
        "id": "view-in-github",
        "colab_type": "text"
      },
      "source": [
        "<a href=\"https://colab.research.google.com/github/Ashan-TUF/Regression_with_TensorFlow/blob/main/Regression_with_TensorFlow.ipynb\" target=\"_parent\"><img src=\"https://colab.research.google.com/assets/colab-badge.svg\" alt=\"Open In Colab\"/></a>"
      ]
    },
    {
      "cell_type": "code",
      "source": [
        "!pip install opendatasets"
      ],
      "metadata": {
        "colab": {
          "base_uri": "https://localhost:8080/"
        },
        "id": "W8yqPgeJL91q",
        "outputId": "912f1c14-4956-46f9-c53b-56b88149f2fd"
      },
      "execution_count": 14,
      "outputs": [
        {
          "output_type": "stream",
          "name": "stdout",
          "text": [
            "Collecting opendatasets\n",
            "  Downloading opendatasets-0.1.22-py3-none-any.whl.metadata (9.2 kB)\n",
            "Requirement already satisfied: tqdm in /usr/local/lib/python3.11/dist-packages (from opendatasets) (4.67.1)\n",
            "Requirement already satisfied: kaggle in /usr/local/lib/python3.11/dist-packages (from opendatasets) (1.7.4.5)\n",
            "Requirement already satisfied: click in /usr/local/lib/python3.11/dist-packages (from opendatasets) (8.2.1)\n",
            "Requirement already satisfied: bleach in /usr/local/lib/python3.11/dist-packages (from kaggle->opendatasets) (6.2.0)\n",
            "Requirement already satisfied: certifi>=14.05.14 in /usr/local/lib/python3.11/dist-packages (from kaggle->opendatasets) (2025.6.15)\n",
            "Requirement already satisfied: charset-normalizer in /usr/local/lib/python3.11/dist-packages (from kaggle->opendatasets) (3.4.2)\n",
            "Requirement already satisfied: idna in /usr/local/lib/python3.11/dist-packages (from kaggle->opendatasets) (3.10)\n",
            "Requirement already satisfied: protobuf in /usr/local/lib/python3.11/dist-packages (from kaggle->opendatasets) (5.29.5)\n",
            "Requirement already satisfied: python-dateutil>=2.5.3 in /usr/local/lib/python3.11/dist-packages (from kaggle->opendatasets) (2.9.0.post0)\n",
            "Requirement already satisfied: python-slugify in /usr/local/lib/python3.11/dist-packages (from kaggle->opendatasets) (8.0.4)\n",
            "Requirement already satisfied: requests in /usr/local/lib/python3.11/dist-packages (from kaggle->opendatasets) (2.32.3)\n",
            "Requirement already satisfied: setuptools>=21.0.0 in /usr/local/lib/python3.11/dist-packages (from kaggle->opendatasets) (75.2.0)\n",
            "Requirement already satisfied: six>=1.10 in /usr/local/lib/python3.11/dist-packages (from kaggle->opendatasets) (1.17.0)\n",
            "Requirement already satisfied: text-unidecode in /usr/local/lib/python3.11/dist-packages (from kaggle->opendatasets) (1.3)\n",
            "Requirement already satisfied: urllib3>=1.15.1 in /usr/local/lib/python3.11/dist-packages (from kaggle->opendatasets) (2.4.0)\n",
            "Requirement already satisfied: webencodings in /usr/local/lib/python3.11/dist-packages (from kaggle->opendatasets) (0.5.1)\n",
            "Downloading opendatasets-0.1.22-py3-none-any.whl (15 kB)\n",
            "Installing collected packages: opendatasets\n",
            "Successfully installed opendatasets-0.1.22\n"
          ]
        }
      ]
    },
    {
      "cell_type": "code",
      "execution_count": 16,
      "metadata": {
        "id": "CBBVYR-u3q5A"
      },
      "outputs": [],
      "source": [
        "import pandas as pd #To work with our dataset\n",
        "import matplotlib.pyplot as plt #For data visualization\n",
        "import tensorflow as tf #To build a neural network\n",
        "import opendatasets as od #To download a dataset from Kaggle"
      ]
    },
    {
      "cell_type": "markdown",
      "source": [
        "Download Dataset"
      ],
      "metadata": {
        "id": "GZaDUXyINQ0V"
      }
    },
    {
      "cell_type": "code",
      "source": [
        "od.download(\"https://www.kaggle.com/datasets/andonians/random-linear-regression\") #This is a link to a Kaggle dataset."
      ],
      "metadata": {
        "colab": {
          "base_uri": "https://localhost:8080/"
        },
        "id": "_nkJwFBCNWaA",
        "outputId": "122b1502-20b4-471f-f514-afbbe5930a7d"
      },
      "execution_count": 18,
      "outputs": [
        {
          "output_type": "stream",
          "name": "stdout",
          "text": [
            "Please provide your Kaggle credentials to download this dataset. Learn more: http://bit.ly/kaggle-creds\n",
            "Your Kaggle username: ashankavinduai\n",
            "Your Kaggle Key: ··········\n",
            "Dataset URL: https://www.kaggle.com/datasets/andonians/random-linear-regression\n",
            "Downloading random-linear-regression.zip to ./random-linear-regression\n"
          ]
        },
        {
          "output_type": "stream",
          "name": "stderr",
          "text": [
            "100%|██████████| 7.63k/7.63k [00:00<00:00, 6.24MB/s]"
          ]
        },
        {
          "output_type": "stream",
          "name": "stdout",
          "text": [
            "\n"
          ]
        },
        {
          "output_type": "stream",
          "name": "stderr",
          "text": [
            "\n"
          ]
        }
      ]
    },
    {
      "cell_type": "code",
      "source": [
        "data = pd.read_csv(\"random-linear-regression/test.csv\")"
      ],
      "metadata": {
        "id": "vy7r5siLO0cO"
      },
      "execution_count": 19,
      "outputs": []
    },
    {
      "cell_type": "code",
      "source": [
        "data.head()"
      ],
      "metadata": {
        "colab": {
          "base_uri": "https://localhost:8080/",
          "height": 206
        },
        "id": "AqrOtsoHPG_2",
        "outputId": "93fce300-4698-4eb4-e041-6cdb95d75911"
      },
      "execution_count": 21,
      "outputs": [
        {
          "output_type": "execute_result",
          "data": {
            "text/plain": [
              "    x          y\n",
              "0  77  79.775152\n",
              "1  21  23.177279\n",
              "2  22  25.609262\n",
              "3  20  17.857388\n",
              "4  36  41.849864"
            ],
            "text/html": [
              "\n",
              "  <div id=\"df-96672aa7-6b3a-40d7-a5a9-1f715b0a9e18\" class=\"colab-df-container\">\n",
              "    <div>\n",
              "<style scoped>\n",
              "    .dataframe tbody tr th:only-of-type {\n",
              "        vertical-align: middle;\n",
              "    }\n",
              "\n",
              "    .dataframe tbody tr th {\n",
              "        vertical-align: top;\n",
              "    }\n",
              "\n",
              "    .dataframe thead th {\n",
              "        text-align: right;\n",
              "    }\n",
              "</style>\n",
              "<table border=\"1\" class=\"dataframe\">\n",
              "  <thead>\n",
              "    <tr style=\"text-align: right;\">\n",
              "      <th></th>\n",
              "      <th>x</th>\n",
              "      <th>y</th>\n",
              "    </tr>\n",
              "  </thead>\n",
              "  <tbody>\n",
              "    <tr>\n",
              "      <th>0</th>\n",
              "      <td>77</td>\n",
              "      <td>79.775152</td>\n",
              "    </tr>\n",
              "    <tr>\n",
              "      <th>1</th>\n",
              "      <td>21</td>\n",
              "      <td>23.177279</td>\n",
              "    </tr>\n",
              "    <tr>\n",
              "      <th>2</th>\n",
              "      <td>22</td>\n",
              "      <td>25.609262</td>\n",
              "    </tr>\n",
              "    <tr>\n",
              "      <th>3</th>\n",
              "      <td>20</td>\n",
              "      <td>17.857388</td>\n",
              "    </tr>\n",
              "    <tr>\n",
              "      <th>4</th>\n",
              "      <td>36</td>\n",
              "      <td>41.849864</td>\n",
              "    </tr>\n",
              "  </tbody>\n",
              "</table>\n",
              "</div>\n",
              "    <div class=\"colab-df-buttons\">\n",
              "\n",
              "  <div class=\"colab-df-container\">\n",
              "    <button class=\"colab-df-convert\" onclick=\"convertToInteractive('df-96672aa7-6b3a-40d7-a5a9-1f715b0a9e18')\"\n",
              "            title=\"Convert this dataframe to an interactive table.\"\n",
              "            style=\"display:none;\">\n",
              "\n",
              "  <svg xmlns=\"http://www.w3.org/2000/svg\" height=\"24px\" viewBox=\"0 -960 960 960\">\n",
              "    <path d=\"M120-120v-720h720v720H120Zm60-500h600v-160H180v160Zm220 220h160v-160H400v160Zm0 220h160v-160H400v160ZM180-400h160v-160H180v160Zm440 0h160v-160H620v160ZM180-180h160v-160H180v160Zm440 0h160v-160H620v160Z\"/>\n",
              "  </svg>\n",
              "    </button>\n",
              "\n",
              "  <style>\n",
              "    .colab-df-container {\n",
              "      display:flex;\n",
              "      gap: 12px;\n",
              "    }\n",
              "\n",
              "    .colab-df-convert {\n",
              "      background-color: #E8F0FE;\n",
              "      border: none;\n",
              "      border-radius: 50%;\n",
              "      cursor: pointer;\n",
              "      display: none;\n",
              "      fill: #1967D2;\n",
              "      height: 32px;\n",
              "      padding: 0 0 0 0;\n",
              "      width: 32px;\n",
              "    }\n",
              "\n",
              "    .colab-df-convert:hover {\n",
              "      background-color: #E2EBFA;\n",
              "      box-shadow: 0px 1px 2px rgba(60, 64, 67, 0.3), 0px 1px 3px 1px rgba(60, 64, 67, 0.15);\n",
              "      fill: #174EA6;\n",
              "    }\n",
              "\n",
              "    .colab-df-buttons div {\n",
              "      margin-bottom: 4px;\n",
              "    }\n",
              "\n",
              "    [theme=dark] .colab-df-convert {\n",
              "      background-color: #3B4455;\n",
              "      fill: #D2E3FC;\n",
              "    }\n",
              "\n",
              "    [theme=dark] .colab-df-convert:hover {\n",
              "      background-color: #434B5C;\n",
              "      box-shadow: 0px 1px 3px 1px rgba(0, 0, 0, 0.15);\n",
              "      filter: drop-shadow(0px 1px 2px rgba(0, 0, 0, 0.3));\n",
              "      fill: #FFFFFF;\n",
              "    }\n",
              "  </style>\n",
              "\n",
              "    <script>\n",
              "      const buttonEl =\n",
              "        document.querySelector('#df-96672aa7-6b3a-40d7-a5a9-1f715b0a9e18 button.colab-df-convert');\n",
              "      buttonEl.style.display =\n",
              "        google.colab.kernel.accessAllowed ? 'block' : 'none';\n",
              "\n",
              "      async function convertToInteractive(key) {\n",
              "        const element = document.querySelector('#df-96672aa7-6b3a-40d7-a5a9-1f715b0a9e18');\n",
              "        const dataTable =\n",
              "          await google.colab.kernel.invokeFunction('convertToInteractive',\n",
              "                                                    [key], {});\n",
              "        if (!dataTable) return;\n",
              "\n",
              "        const docLinkHtml = 'Like what you see? Visit the ' +\n",
              "          '<a target=\"_blank\" href=https://colab.research.google.com/notebooks/data_table.ipynb>data table notebook</a>'\n",
              "          + ' to learn more about interactive tables.';\n",
              "        element.innerHTML = '';\n",
              "        dataTable['output_type'] = 'display_data';\n",
              "        await google.colab.output.renderOutput(dataTable, element);\n",
              "        const docLink = document.createElement('div');\n",
              "        docLink.innerHTML = docLinkHtml;\n",
              "        element.appendChild(docLink);\n",
              "      }\n",
              "    </script>\n",
              "  </div>\n",
              "\n",
              "\n",
              "    <div id=\"df-241d8ee1-cf27-4ca6-9c73-f540409ddf06\">\n",
              "      <button class=\"colab-df-quickchart\" onclick=\"quickchart('df-241d8ee1-cf27-4ca6-9c73-f540409ddf06')\"\n",
              "                title=\"Suggest charts\"\n",
              "                style=\"display:none;\">\n",
              "\n",
              "<svg xmlns=\"http://www.w3.org/2000/svg\" height=\"24px\"viewBox=\"0 0 24 24\"\n",
              "     width=\"24px\">\n",
              "    <g>\n",
              "        <path d=\"M19 3H5c-1.1 0-2 .9-2 2v14c0 1.1.9 2 2 2h14c1.1 0 2-.9 2-2V5c0-1.1-.9-2-2-2zM9 17H7v-7h2v7zm4 0h-2V7h2v10zm4 0h-2v-4h2v4z\"/>\n",
              "    </g>\n",
              "</svg>\n",
              "      </button>\n",
              "\n",
              "<style>\n",
              "  .colab-df-quickchart {\n",
              "      --bg-color: #E8F0FE;\n",
              "      --fill-color: #1967D2;\n",
              "      --hover-bg-color: #E2EBFA;\n",
              "      --hover-fill-color: #174EA6;\n",
              "      --disabled-fill-color: #AAA;\n",
              "      --disabled-bg-color: #DDD;\n",
              "  }\n",
              "\n",
              "  [theme=dark] .colab-df-quickchart {\n",
              "      --bg-color: #3B4455;\n",
              "      --fill-color: #D2E3FC;\n",
              "      --hover-bg-color: #434B5C;\n",
              "      --hover-fill-color: #FFFFFF;\n",
              "      --disabled-bg-color: #3B4455;\n",
              "      --disabled-fill-color: #666;\n",
              "  }\n",
              "\n",
              "  .colab-df-quickchart {\n",
              "    background-color: var(--bg-color);\n",
              "    border: none;\n",
              "    border-radius: 50%;\n",
              "    cursor: pointer;\n",
              "    display: none;\n",
              "    fill: var(--fill-color);\n",
              "    height: 32px;\n",
              "    padding: 0;\n",
              "    width: 32px;\n",
              "  }\n",
              "\n",
              "  .colab-df-quickchart:hover {\n",
              "    background-color: var(--hover-bg-color);\n",
              "    box-shadow: 0 1px 2px rgba(60, 64, 67, 0.3), 0 1px 3px 1px rgba(60, 64, 67, 0.15);\n",
              "    fill: var(--button-hover-fill-color);\n",
              "  }\n",
              "\n",
              "  .colab-df-quickchart-complete:disabled,\n",
              "  .colab-df-quickchart-complete:disabled:hover {\n",
              "    background-color: var(--disabled-bg-color);\n",
              "    fill: var(--disabled-fill-color);\n",
              "    box-shadow: none;\n",
              "  }\n",
              "\n",
              "  .colab-df-spinner {\n",
              "    border: 2px solid var(--fill-color);\n",
              "    border-color: transparent;\n",
              "    border-bottom-color: var(--fill-color);\n",
              "    animation:\n",
              "      spin 1s steps(1) infinite;\n",
              "  }\n",
              "\n",
              "  @keyframes spin {\n",
              "    0% {\n",
              "      border-color: transparent;\n",
              "      border-bottom-color: var(--fill-color);\n",
              "      border-left-color: var(--fill-color);\n",
              "    }\n",
              "    20% {\n",
              "      border-color: transparent;\n",
              "      border-left-color: var(--fill-color);\n",
              "      border-top-color: var(--fill-color);\n",
              "    }\n",
              "    30% {\n",
              "      border-color: transparent;\n",
              "      border-left-color: var(--fill-color);\n",
              "      border-top-color: var(--fill-color);\n",
              "      border-right-color: var(--fill-color);\n",
              "    }\n",
              "    40% {\n",
              "      border-color: transparent;\n",
              "      border-right-color: var(--fill-color);\n",
              "      border-top-color: var(--fill-color);\n",
              "    }\n",
              "    60% {\n",
              "      border-color: transparent;\n",
              "      border-right-color: var(--fill-color);\n",
              "    }\n",
              "    80% {\n",
              "      border-color: transparent;\n",
              "      border-right-color: var(--fill-color);\n",
              "      border-bottom-color: var(--fill-color);\n",
              "    }\n",
              "    90% {\n",
              "      border-color: transparent;\n",
              "      border-bottom-color: var(--fill-color);\n",
              "    }\n",
              "  }\n",
              "</style>\n",
              "\n",
              "      <script>\n",
              "        async function quickchart(key) {\n",
              "          const quickchartButtonEl =\n",
              "            document.querySelector('#' + key + ' button');\n",
              "          quickchartButtonEl.disabled = true;  // To prevent multiple clicks.\n",
              "          quickchartButtonEl.classList.add('colab-df-spinner');\n",
              "          try {\n",
              "            const charts = await google.colab.kernel.invokeFunction(\n",
              "                'suggestCharts', [key], {});\n",
              "          } catch (error) {\n",
              "            console.error('Error during call to suggestCharts:', error);\n",
              "          }\n",
              "          quickchartButtonEl.classList.remove('colab-df-spinner');\n",
              "          quickchartButtonEl.classList.add('colab-df-quickchart-complete');\n",
              "        }\n",
              "        (() => {\n",
              "          let quickchartButtonEl =\n",
              "            document.querySelector('#df-241d8ee1-cf27-4ca6-9c73-f540409ddf06 button');\n",
              "          quickchartButtonEl.style.display =\n",
              "            google.colab.kernel.accessAllowed ? 'block' : 'none';\n",
              "        })();\n",
              "      </script>\n",
              "    </div>\n",
              "\n",
              "    </div>\n",
              "  </div>\n"
            ],
            "application/vnd.google.colaboratory.intrinsic+json": {
              "type": "dataframe",
              "variable_name": "data",
              "summary": "{\n  \"name\": \"data\",\n  \"rows\": 300,\n  \"fields\": [\n    {\n      \"column\": \"x\",\n      \"properties\": {\n        \"dtype\": \"number\",\n        \"std\": 28,\n        \"min\": 0,\n        \"max\": 100,\n        \"num_unique_values\": 97,\n        \"samples\": [\n          38,\n          88,\n          6\n        ],\n        \"semantic_type\": \"\",\n        \"description\": \"\"\n      }\n    },\n    {\n      \"column\": \"y\",\n      \"properties\": {\n        \"dtype\": \"number\",\n        \"std\": 29.0714808559721,\n        \"min\": -3.467883789,\n        \"max\": 105.5918375,\n        \"num_unique_values\": 300,\n        \"samples\": [\n          92.88772282,\n          79.50341495,\n          97.00148372\n        ],\n        \"semantic_type\": \"\",\n        \"description\": \"\"\n      }\n    }\n  ]\n}"
            }
          },
          "metadata": {},
          "execution_count": 21
        }
      ]
    },
    {
      "cell_type": "code",
      "source": [
        "data.shape"
      ],
      "metadata": {
        "colab": {
          "base_uri": "https://localhost:8080/"
        },
        "id": "J-O0FA9OPcjS",
        "outputId": "c500d382-1e9f-4ad4-c4fc-0e49562a2350"
      },
      "execution_count": 22,
      "outputs": [
        {
          "output_type": "execute_result",
          "data": {
            "text/plain": [
              "(300, 2)"
            ]
          },
          "metadata": {},
          "execution_count": 22
        }
      ]
    },
    {
      "cell_type": "code",
      "source": [
        "x = data['x']\n",
        "y = data['y']"
      ],
      "metadata": {
        "id": "Dx43wh2ZPp7t"
      },
      "execution_count": 23,
      "outputs": []
    },
    {
      "cell_type": "code",
      "source": [
        "x"
      ],
      "metadata": {
        "colab": {
          "base_uri": "https://localhost:8080/",
          "height": 458
        },
        "id": "vhMGhepWPyO9",
        "outputId": "57b6dfeb-394e-4bc5-c8ee-cf6dfd9c088d"
      },
      "execution_count": 24,
      "outputs": [
        {
          "output_type": "execute_result",
          "data": {
            "text/plain": [
              "0      77\n",
              "1      21\n",
              "2      22\n",
              "3      20\n",
              "4      36\n",
              "       ..\n",
              "295    71\n",
              "296    46\n",
              "297    55\n",
              "298    62\n",
              "299    47\n",
              "Name: x, Length: 300, dtype: int64"
            ],
            "text/html": [
              "<div>\n",
              "<style scoped>\n",
              "    .dataframe tbody tr th:only-of-type {\n",
              "        vertical-align: middle;\n",
              "    }\n",
              "\n",
              "    .dataframe tbody tr th {\n",
              "        vertical-align: top;\n",
              "    }\n",
              "\n",
              "    .dataframe thead th {\n",
              "        text-align: right;\n",
              "    }\n",
              "</style>\n",
              "<table border=\"1\" class=\"dataframe\">\n",
              "  <thead>\n",
              "    <tr style=\"text-align: right;\">\n",
              "      <th></th>\n",
              "      <th>x</th>\n",
              "    </tr>\n",
              "  </thead>\n",
              "  <tbody>\n",
              "    <tr>\n",
              "      <th>0</th>\n",
              "      <td>77</td>\n",
              "    </tr>\n",
              "    <tr>\n",
              "      <th>1</th>\n",
              "      <td>21</td>\n",
              "    </tr>\n",
              "    <tr>\n",
              "      <th>2</th>\n",
              "      <td>22</td>\n",
              "    </tr>\n",
              "    <tr>\n",
              "      <th>3</th>\n",
              "      <td>20</td>\n",
              "    </tr>\n",
              "    <tr>\n",
              "      <th>4</th>\n",
              "      <td>36</td>\n",
              "    </tr>\n",
              "    <tr>\n",
              "      <th>...</th>\n",
              "      <td>...</td>\n",
              "    </tr>\n",
              "    <tr>\n",
              "      <th>295</th>\n",
              "      <td>71</td>\n",
              "    </tr>\n",
              "    <tr>\n",
              "      <th>296</th>\n",
              "      <td>46</td>\n",
              "    </tr>\n",
              "    <tr>\n",
              "      <th>297</th>\n",
              "      <td>55</td>\n",
              "    </tr>\n",
              "    <tr>\n",
              "      <th>298</th>\n",
              "      <td>62</td>\n",
              "    </tr>\n",
              "    <tr>\n",
              "      <th>299</th>\n",
              "      <td>47</td>\n",
              "    </tr>\n",
              "  </tbody>\n",
              "</table>\n",
              "<p>300 rows × 1 columns</p>\n",
              "</div><br><label><b>dtype:</b> int64</label>"
            ]
          },
          "metadata": {},
          "execution_count": 24
        }
      ]
    },
    {
      "cell_type": "code",
      "source": [
        "y"
      ],
      "metadata": {
        "colab": {
          "base_uri": "https://localhost:8080/",
          "height": 458
        },
        "id": "uT81mLI4P0d5",
        "outputId": "d2e62b94-92bd-4b64-b590-150c0d269aef"
      },
      "execution_count": 25,
      "outputs": [
        {
          "output_type": "execute_result",
          "data": {
            "text/plain": [
              "0      79.775152\n",
              "1      23.177279\n",
              "2      25.609262\n",
              "3      17.857388\n",
              "4      41.849864\n",
              "         ...    \n",
              "295    68.545888\n",
              "296    47.334876\n",
              "297    54.090637\n",
              "298    63.297171\n",
              "299    52.459467\n",
              "Name: y, Length: 300, dtype: float64"
            ],
            "text/html": [
              "<div>\n",
              "<style scoped>\n",
              "    .dataframe tbody tr th:only-of-type {\n",
              "        vertical-align: middle;\n",
              "    }\n",
              "\n",
              "    .dataframe tbody tr th {\n",
              "        vertical-align: top;\n",
              "    }\n",
              "\n",
              "    .dataframe thead th {\n",
              "        text-align: right;\n",
              "    }\n",
              "</style>\n",
              "<table border=\"1\" class=\"dataframe\">\n",
              "  <thead>\n",
              "    <tr style=\"text-align: right;\">\n",
              "      <th></th>\n",
              "      <th>y</th>\n",
              "    </tr>\n",
              "  </thead>\n",
              "  <tbody>\n",
              "    <tr>\n",
              "      <th>0</th>\n",
              "      <td>79.775152</td>\n",
              "    </tr>\n",
              "    <tr>\n",
              "      <th>1</th>\n",
              "      <td>23.177279</td>\n",
              "    </tr>\n",
              "    <tr>\n",
              "      <th>2</th>\n",
              "      <td>25.609262</td>\n",
              "    </tr>\n",
              "    <tr>\n",
              "      <th>3</th>\n",
              "      <td>17.857388</td>\n",
              "    </tr>\n",
              "    <tr>\n",
              "      <th>4</th>\n",
              "      <td>41.849864</td>\n",
              "    </tr>\n",
              "    <tr>\n",
              "      <th>...</th>\n",
              "      <td>...</td>\n",
              "    </tr>\n",
              "    <tr>\n",
              "      <th>295</th>\n",
              "      <td>68.545888</td>\n",
              "    </tr>\n",
              "    <tr>\n",
              "      <th>296</th>\n",
              "      <td>47.334876</td>\n",
              "    </tr>\n",
              "    <tr>\n",
              "      <th>297</th>\n",
              "      <td>54.090637</td>\n",
              "    </tr>\n",
              "    <tr>\n",
              "      <th>298</th>\n",
              "      <td>63.297171</td>\n",
              "    </tr>\n",
              "    <tr>\n",
              "      <th>299</th>\n",
              "      <td>52.459467</td>\n",
              "    </tr>\n",
              "  </tbody>\n",
              "</table>\n",
              "<p>300 rows × 1 columns</p>\n",
              "</div><br><label><b>dtype:</b> float64</label>"
            ]
          },
          "metadata": {},
          "execution_count": 25
        }
      ]
    },
    {
      "cell_type": "code",
      "source": [
        "plt.scatter(x,y,c ='b') #'b' is the color blue\n",
        "plt.show()"
      ],
      "metadata": {
        "colab": {
          "base_uri": "https://localhost:8080/",
          "height": 430
        },
        "id": "xWtho4LpP2ay",
        "outputId": "c81762e6-830c-4b3c-8f52-07021349e974"
      },
      "execution_count": 26,
      "outputs": [
        {
          "output_type": "display_data",
          "data": {
            "text/plain": [
              "<Figure size 640x480 with 1 Axes>"
            ],
            "image/png": "[encoded data removed]"
          },
          "metadata": {}
        }
      ]
    },
    {
      "cell_type": "markdown",
      "source": [
        "###Make Train dataset and Test dataset"
      ],
      "metadata": {
        "id": "FC1hQWB1Q2d2"
      }
    },
    {
      "cell_type": "code",
      "source": [
        "from sklearn.model_selection import train_test_split\n",
        "x_train,x_test,y_train,y_test = train_test_split(x,y,test_size=0.2, random_state=42)"
      ],
      "metadata": {
        "id": "XJ5IXb57RCkj"
      },
      "execution_count": 27,
      "outputs": []
    },
    {
      "cell_type": "code",
      "source": [
        "x_train.shape,x_test.shape"
      ],
      "metadata": {
        "colab": {
          "base_uri": "https://localhost:8080/"
        },
        "id": "VHKs6BM2RgRo",
        "outputId": "2e6817b3-0a41-4818-f6ee-f33c7f42b28a"
      },
      "execution_count": 28,
      "outputs": [
        {
          "output_type": "execute_result",
          "data": {
            "text/plain": [
              "((240,), (60,))"
            ]
          },
          "metadata": {},
          "execution_count": 28
        }
      ]
    },
    {
      "cell_type": "code",
      "source": [
        "plt.scatter(x_train,y_train, c='b', label= 'Training data')\n",
        "plt.scatter(x_test,y_test, c='y', label = 'Testing data')\n",
        "plt.legend()\n",
        "plt.show()"
      ],
      "metadata": {
        "colab": {
          "base_uri": "https://localhost:8080/",
          "height": 430
        },
        "id": "wZnAJaEwRwzt",
        "outputId": "e560ac69-fb2a-4720-b9e9-ac6e54f73efd"
      },
      "execution_count": 29,
      "outputs": [
        {
          "output_type": "display_data",
          "data": {
            "text/plain": [
              "<Figure size 640x480 with 1 Axes>"
            ],
            "image/png": "[encoded data removed]"
          },
          "metadata": {}
        }
      ]
    },
    {
      "cell_type": "markdown",
      "source": [
        "#Model Building"
      ],
      "metadata": {
        "id": "XamsSgeW5b4p"
      }
    },
    {
      "cell_type": "code",
      "source": [
        "# create a model\n",
        "model = tf.keras.Sequential([\n",
        "    tf.keras.layers.Dense(64,input_shape=(1,)),\n",
        "    tf.keras.layers.Dense(10),\n",
        "    tf.keras.layers.Dense(1)\n",
        "    ])\n",
        "\n",
        "# compile model\n",
        "model.compile(loss = tf.keras.losses.mae,\n",
        "              optimizer = tf.keras.optimizers.Adam(learning_rate= 0.05),\n",
        "              metrics = ['mae'])\n",
        "\n",
        "# train model\n",
        "epoch_number = 10\n",
        "history = model.fit(tf.expand_dims(x_train, axis=1), y_train, epochs= epoch_number)"
      ],
      "metadata": {
        "id": "HpmBtCCH54CD",
        "colab": {
          "base_uri": "https://localhost:8080/"
        },
        "outputId": "732c4b43-41fc-4774-ca2b-37fcdd48bfcb"
      },
      "execution_count": 111,
      "outputs": [
        {
          "output_type": "stream",
          "name": "stdout",
          "text": [
            "Epoch 1/10\n"
          ]
        },
        {
          "output_type": "stream",
          "name": "stderr",
          "text": [
            "/usr/local/lib/python3.11/dist-packages/keras/src/layers/core/dense.py:87: UserWarning: Do not pass an `input_shape`/`input_dim` argument to a layer. When using Sequential models, prefer using an `Input(shape)` object as the first layer in the model instead.\n",
            "  super().__init__(activity_regularizer=activity_regularizer, **kwargs)\n"
          ]
        },
        {
          "output_type": "stream",
          "name": "stdout",
          "text": [
            "\u001b[1m8/8\u001b[0m \u001b[32m━━━━━━━━━━━━━━━━━━━━\u001b[0m\u001b[37m\u001b[0m \u001b[1m1s\u001b[0m 5ms/step - loss: 50.8211 - mae: 50.8211\n",
            "Epoch 2/10\n",
            "\u001b[1m8/8\u001b[0m \u001b[32m━━━━━━━━━━━━━━━━━━━━\u001b[0m\u001b[37m\u001b[0m \u001b[1m0s\u001b[0m 5ms/step - loss: 15.9373 - mae: 15.9373 \n",
            "Epoch 3/10\n",
            "\u001b[1m8/8\u001b[0m \u001b[32m━━━━━━━━━━━━━━━━━━━━\u001b[0m\u001b[37m\u001b[0m \u001b[1m0s\u001b[0m 5ms/step - loss: 7.3116 - mae: 7.3116 \n",
            "Epoch 4/10\n",
            "\u001b[1m8/8\u001b[0m \u001b[32m━━━━━━━━━━━━━━━━━━━━\u001b[0m\u001b[37m\u001b[0m \u001b[1m0s\u001b[0m 5ms/step - loss: 5.6547 - mae: 5.6547 \n",
            "Epoch 5/10\n",
            "\u001b[1m8/8\u001b[0m \u001b[32m━━━━━━━━━━━━━━━━━━━━\u001b[0m\u001b[37m\u001b[0m \u001b[1m0s\u001b[0m 5ms/step - loss: 3.5584 - mae: 3.5584 \n",
            "Epoch 6/10\n",
            "\u001b[1m8/8\u001b[0m \u001b[32m━━━━━━━━━━━━━━━━━━━━\u001b[0m\u001b[37m\u001b[0m \u001b[1m0s\u001b[0m 5ms/step - loss: 2.8446 - mae: 2.8446 \n",
            "Epoch 7/10\n",
            "\u001b[1m8/8\u001b[0m \u001b[32m━━━━━━━━━━━━━━━━━━━━\u001b[0m\u001b[37m\u001b[0m \u001b[1m0s\u001b[0m 5ms/step - loss: 2.5778 - mae: 2.5778 \n",
            "Epoch 8/10\n",
            "\u001b[1m8/8\u001b[0m \u001b[32m━━━━━━━━━━━━━━━━━━━━\u001b[0m\u001b[37m\u001b[0m \u001b[1m0s\u001b[0m 5ms/step - loss: 2.8599 - mae: 2.8599 \n",
            "Epoch 9/10\n",
            "\u001b[1m8/8\u001b[0m \u001b[32m━━━━━━━━━━━━━━━━━━━━\u001b[0m\u001b[37m\u001b[0m \u001b[1m0s\u001b[0m 5ms/step - loss: 2.8489 - mae: 2.8489 \n",
            "Epoch 10/10\n",
            "\u001b[1m8/8\u001b[0m \u001b[32m━━━━━━━━━━━━━━━━━━━━\u001b[0m\u001b[37m\u001b[0m \u001b[1m0s\u001b[0m 5ms/step - loss: 2.6693 - mae: 2.6693 \n"
          ]
        }
      ]
    },
    {
      "cell_type": "code",
      "source": [
        "model.summary()"
      ],
      "metadata": {
        "colab": {
          "base_uri": "https://localhost:8080/",
          "height": 255
        },
        "id": "q6a_JYN_VBew",
        "outputId": "b9e01c00-e340-4d24-ed3c-adcb92334b4c"
      },
      "execution_count": 96,
      "outputs": [
        {
          "output_type": "display_data",
          "data": {
            "text/plain": [
              "\u001b[1mModel: \"sequential_19\"\u001b[0m\n"
            ],
            "text/html": [
              "<pre style=\"white-space:pre;overflow-x:auto;line-height:normal;font-family:Menlo,'DejaVu Sans Mono',consolas,'Courier New',monospace\"><span style=\"font-weight: bold\">Model: \"sequential_19\"</span>\n",
              "</pre>\n"
            ]
          },
          "metadata": {}
        },
        {
          "output_type": "display_data",
          "data": {
            "text/plain": [
              "┏━━━━━━━━━━━━━━━━━━━━━━━━━━━━━━━━━┳━━━━━━━━━━━━━━━━━━━━━━━━┳━━━━━━━━━━━━━━━┓\n",
              "┃\u001b[1m \u001b[0m\u001b[1mLayer (type)                   \u001b[0m\u001b[1m \u001b[0m┃\u001b[1m \u001b[0m\u001b[1mOutput Shape          \u001b[0m\u001b[1m \u001b[0m┃\u001b[1m \u001b[0m\u001b[1m      Param #\u001b[0m\u001b[1m \u001b[0m┃\n",
              "┡━━━━━━━━━━━━━━━━━━━━━━━━━━━━━━━━━╇━━━━━━━━━━━━━━━━━━━━━━━━╇━━━━━━━━━━━━━━━┩\n",
              "│ dense_46 (\u001b[38;5;33mDense\u001b[0m)                │ (\u001b[38;5;45mNone\u001b[0m, \u001b[38;5;34m64\u001b[0m)             │           \u001b[38;5;34m128\u001b[0m │\n",
              "├─────────────────────────────────┼────────────────────────┼───────────────┤\n",
              "│ dense_47 (\u001b[38;5;33mDense\u001b[0m)                │ (\u001b[38;5;45mNone\u001b[0m, \u001b[38;5;34m20\u001b[0m)             │         \u001b[38;5;34m1,300\u001b[0m │\n",
              "├─────────────────────────────────┼────────────────────────┼───────────────┤\n",
              "│ dense_48 (\u001b[38;5;33mDense\u001b[0m)                │ (\u001b[38;5;45mNone\u001b[0m, \u001b[38;5;34m1\u001b[0m)              │            \u001b[38;5;34m21\u001b[0m │\n",
              "└─────────────────────────────────┴────────────────────────┴───────────────┘\n"
            ],
            "text/html": [
              "<pre style=\"white-space:pre;overflow-x:auto;line-height:normal;font-family:Menlo,'DejaVu Sans Mono',consolas,'Courier New',monospace\">┏━━━━━━━━━━━━━━━━━━━━━━━━━━━━━━━━━┳━━━━━━━━━━━━━━━━━━━━━━━━┳━━━━━━━━━━━━━━━┓\n",
              "┃<span style=\"font-weight: bold\"> Layer (type)                    </span>┃<span style=\"font-weight: bold\"> Output Shape           </span>┃<span style=\"font-weight: bold\">       Param # </span>┃\n",
              "┡━━━━━━━━━━━━━━━━━━━━━━━━━━━━━━━━━╇━━━━━━━━━━━━━━━━━━━━━━━━╇━━━━━━━━━━━━━━━┩\n",
              "│ dense_46 (<span style=\"color: #0087ff; text-decoration-color: #0087ff\">Dense</span>)                │ (<span style=\"color: #00d7ff; text-decoration-color: #00d7ff\">None</span>, <span style=\"color: #00af00; text-decoration-color: #00af00\">64</span>)             │           <span style=\"color: #00af00; text-decoration-color: #00af00\">128</span> │\n",
              "├─────────────────────────────────┼────────────────────────┼───────────────┤\n",
              "│ dense_47 (<span style=\"color: #0087ff; text-decoration-color: #0087ff\">Dense</span>)                │ (<span style=\"color: #00d7ff; text-decoration-color: #00d7ff\">None</span>, <span style=\"color: #00af00; text-decoration-color: #00af00\">20</span>)             │         <span style=\"color: #00af00; text-decoration-color: #00af00\">1,300</span> │\n",
              "├─────────────────────────────────┼────────────────────────┼───────────────┤\n",
              "│ dense_48 (<span style=\"color: #0087ff; text-decoration-color: #0087ff\">Dense</span>)                │ (<span style=\"color: #00d7ff; text-decoration-color: #00d7ff\">None</span>, <span style=\"color: #00af00; text-decoration-color: #00af00\">1</span>)              │            <span style=\"color: #00af00; text-decoration-color: #00af00\">21</span> │\n",
              "└─────────────────────────────────┴────────────────────────┴───────────────┘\n",
              "</pre>\n"
            ]
          },
          "metadata": {}
        },
        {
          "output_type": "display_data",
          "data": {
            "text/plain": [
              "\u001b[1m Total params: \u001b[0m\u001b[38;5;34m4,349\u001b[0m (16.99 KB)\n"
            ],
            "text/html": [
              "<pre style=\"white-space:pre;overflow-x:auto;line-height:normal;font-family:Menlo,'DejaVu Sans Mono',consolas,'Courier New',monospace\"><span style=\"font-weight: bold\"> Total params: </span><span style=\"color: #00af00; text-decoration-color: #00af00\">4,349</span> (16.99 KB)\n",
              "</pre>\n"
            ]
          },
          "metadata": {}
        },
        {
          "output_type": "display_data",
          "data": {
            "text/plain": [
              "\u001b[1m Trainable params: \u001b[0m\u001b[38;5;34m1,449\u001b[0m (5.66 KB)\n"
            ],
            "text/html": [
              "<pre style=\"white-space:pre;overflow-x:auto;line-height:normal;font-family:Menlo,'DejaVu Sans Mono',consolas,'Courier New',monospace\"><span style=\"font-weight: bold\"> Trainable params: </span><span style=\"color: #00af00; text-decoration-color: #00af00\">1,449</span> (5.66 KB)\n",
              "</pre>\n"
            ]
          },
          "metadata": {}
        },
        {
          "output_type": "display_data",
          "data": {
            "text/plain": [
              "\u001b[1m Non-trainable params: \u001b[0m\u001b[38;5;34m0\u001b[0m (0.00 B)\n"
            ],
            "text/html": [
              "<pre style=\"white-space:pre;overflow-x:auto;line-height:normal;font-family:Menlo,'DejaVu Sans Mono',consolas,'Courier New',monospace\"><span style=\"font-weight: bold\"> Non-trainable params: </span><span style=\"color: #00af00; text-decoration-color: #00af00\">0</span> (0.00 B)\n",
              "</pre>\n"
            ]
          },
          "metadata": {}
        },
        {
          "output_type": "display_data",
          "data": {
            "text/plain": [
              "\u001b[1m Optimizer params: \u001b[0m\u001b[38;5;34m2,900\u001b[0m (11.33 KB)\n"
            ],
            "text/html": [
              "<pre style=\"white-space:pre;overflow-x:auto;line-height:normal;font-family:Menlo,'DejaVu Sans Mono',consolas,'Courier New',monospace\"><span style=\"font-weight: bold\"> Optimizer params: </span><span style=\"color: #00af00; text-decoration-color: #00af00\">2,900</span> (11.33 KB)\n",
              "</pre>\n"
            ]
          },
          "metadata": {}
        }
      ]
    },
    {
      "cell_type": "code",
      "source": [
        "y_predictions = model.predict(x_test)\n",
        "y_predictions[:5]"
      ],
      "metadata": {
        "colab": {
          "base_uri": "https://localhost:8080/"
        },
        "id": "zP7kuIvsVwLA",
        "outputId": "de7d35a5-f020-42f7-b7cd-1fcd03a3adda"
      },
      "execution_count": 97,
      "outputs": [
        {
          "output_type": "stream",
          "name": "stdout",
          "text": [
            "\u001b[1m2/2\u001b[0m \u001b[32m━━━━━━━━━━━━━━━━━━━━\u001b[0m\u001b[37m\u001b[0m \u001b[1m0s\u001b[0m 54ms/step\n"
          ]
        },
        {
          "output_type": "execute_result",
          "data": {
            "text/plain": [
              "array([[94.05549  ],\n",
              "       [79.39523  ],\n",
              "       [98.24411  ],\n",
              "       [ 5.0468273],\n",
              "       [95.10264  ]], dtype=float32)"
            ]
          },
          "metadata": {},
          "execution_count": 97
        }
      ]
    },
    {
      "cell_type": "code",
      "source": [
        "y_test.head(5)"
      ],
      "metadata": {
        "colab": {
          "base_uri": "https://localhost:8080/",
          "height": 241
        },
        "id": "ZIXWcxx8WMhP",
        "outputId": "4c11018d-7fd6-4778-d7af-e777ac2686e7"
      },
      "execution_count": 98,
      "outputs": [
        {
          "output_type": "execute_result",
          "data": {
            "text/plain": [
              "203    92.887723\n",
              "266    79.503415\n",
              "152    97.001484\n",
              "9       8.746748\n",
              "233    89.739520\n",
              "Name: y, dtype: float64"
            ],
            "text/html": [
              "<div>\n",
              "<style scoped>\n",
              "    .dataframe tbody tr th:only-of-type {\n",
              "        vertical-align: middle;\n",
              "    }\n",
              "\n",
              "    .dataframe tbody tr th {\n",
              "        vertical-align: top;\n",
              "    }\n",
              "\n",
              "    .dataframe thead th {\n",
              "        text-align: right;\n",
              "    }\n",
              "</style>\n",
              "<table border=\"1\" class=\"dataframe\">\n",
              "  <thead>\n",
              "    <tr style=\"text-align: right;\">\n",
              "      <th></th>\n",
              "      <th>y</th>\n",
              "    </tr>\n",
              "  </thead>\n",
              "  <tbody>\n",
              "    <tr>\n",
              "      <th>203</th>\n",
              "      <td>92.887723</td>\n",
              "    </tr>\n",
              "    <tr>\n",
              "      <th>266</th>\n",
              "      <td>79.503415</td>\n",
              "    </tr>\n",
              "    <tr>\n",
              "      <th>152</th>\n",
              "      <td>97.001484</td>\n",
              "    </tr>\n",
              "    <tr>\n",
              "      <th>9</th>\n",
              "      <td>8.746748</td>\n",
              "    </tr>\n",
              "    <tr>\n",
              "      <th>233</th>\n",
              "      <td>89.739520</td>\n",
              "    </tr>\n",
              "  </tbody>\n",
              "</table>\n",
              "</div><br><label><b>dtype:</b> float64</label>"
            ]
          },
          "metadata": {},
          "execution_count": 98
        }
      ]
    },
    {
      "cell_type": "code",
      "source": [
        "# plt.scatter(x_train,y_train, c= 'b', label = 'Training_data')\n",
        "plt.scatter(x_test, y_test, c= 'y', label = 'Testing_data')\n",
        "plt.scatter(x_test, y_predictions, c= 'r', label = 'Predictions')\n",
        "plt.legend()\n",
        "plt.show()"
      ],
      "metadata": {
        "colab": {
          "base_uri": "https://localhost:8080/",
          "height": 430
        },
        "id": "cLJu441CWhmQ",
        "outputId": "f7f24a6a-7cd4-497a-b912-a173d1cbc203"
      },
      "execution_count": 99,
      "outputs": [
        {
          "output_type": "display_data",
          "data": {
            "text/plain": [
              "<Figure size 640x480 with 1 Axes>"
            ],
            "image/png": "[encoded data removed]"
          },
          "metadata": {}
        }
      ]
    },
    {
      "cell_type": "code",
      "source": [
        "model.evaluate(x_test, y_test)"
      ],
      "metadata": {
        "colab": {
          "base_uri": "https://localhost:8080/"
        },
        "id": "HLvVpeQBXN1Z",
        "outputId": "c475e8da-7c9b-4eb5-afda-a813bb93240d"
      },
      "execution_count": 100,
      "outputs": [
        {
          "output_type": "stream",
          "name": "stdout",
          "text": [
            "\u001b[1m2/2\u001b[0m \u001b[32m━━━━━━━━━━━━━━━━━━━━\u001b[0m\u001b[37m\u001b[0m \u001b[1m0s\u001b[0m 23ms/step - loss: 3.0756 - mae: 3.0756 \n"
          ]
        },
        {
          "output_type": "execute_result",
          "data": {
            "text/plain": [
              "[3.158698320388794, 3.158698320388794]"
            ]
          },
          "metadata": {},
          "execution_count": 100
        }
      ]
    },
    {
      "cell_type": "code",
      "source": [
        "# Using MAE (Mean Absolute Error)\n",
        "mae_metric = tf.keras.metrics.MeanAbsoluteError()\n",
        "mae_metric.update_state(y_test, tf.squeeze(y_predictions))\n",
        "mae = mae_metric.result().numpy()\n",
        "mae"
      ],
      "metadata": {
        "colab": {
          "base_uri": "https://localhost:8080/"
        },
        "id": "gcE8YsU7XoxQ",
        "outputId": "13371f85-5f4b-41d0-fbe9-543d390efafe"
      },
      "execution_count": 88,
      "outputs": [
        {
          "output_type": "execute_result",
          "data": {
            "text/plain": [
              "np.float32(4.87841)"
            ]
          },
          "metadata": {},
          "execution_count": 88
        }
      ]
    },
    {
      "cell_type": "code",
      "source": [
        "# Using MSE (Mean Squared Error)\n",
        "mse_metric = tf.keras.metrics.MeanSquaredError()\n",
        "mse_metric.update_state(y_test, tf.squeeze(y_predictions))\n",
        "mse = mse_metric.result().numpy()\n",
        "mae"
      ],
      "metadata": {
        "colab": {
          "base_uri": "https://localhost:8080/"
        },
        "id": "1l35uq5CYbla",
        "outputId": "97605d38-0d06-4140-a7a1-224a33be43e9"
      },
      "execution_count": 89,
      "outputs": [
        {
          "output_type": "execute_result",
          "data": {
            "text/plain": [
              "np.float32(4.87841)"
            ]
          },
          "metadata": {},
          "execution_count": 89
        }
      ]
    },
    {
      "cell_type": "code",
      "source": [
        "x_range = range(1, epoch_number +1)\n",
        "loss = history.history['loss']\n",
        "plt.plot(x_range, loss)\n",
        "plt.xlabel('epoch')\n",
        "plt.ylabel('loss')\n",
        "plt.show()"
      ],
      "metadata": {
        "colab": {
          "base_uri": "https://localhost:8080/",
          "height": 449
        },
        "id": "GK1yopxYaesQ",
        "outputId": "240b3c95-11a0-48bc-c0ce-4a3f5912b445"
      },
      "execution_count": 112,
      "outputs": [
        {
          "output_type": "display_data",
          "data": {
            "text/plain": [
              "<Figure size 640x480 with 1 Axes>"
            ],
            "image/png": "[encoded data removed]"
          },
          "metadata": {}
        }
      ]
    },
    {
      "cell_type": "code",
      "source": [
        "for layer in model.layers:\n",
        "  weights = layer.get_weights()[0]\n",
        "  biases = layer.get_weights()[1]\n",
        "  print(f\"\\nWeights:\\n {weights} \\nBiases:\\n {biases}\")"
      ],
      "metadata": {
        "colab": {
          "base_uri": "https://localhost:8080/"
        },
        "id": "HPl3c6Xid266",
        "outputId": "8db6c9ca-ddea-4f17-b6ec-50246c3aae9d"
      },
      "execution_count": 114,
      "outputs": [
        {
          "output_type": "stream",
          "name": "stdout",
          "text": [
            "\n",
            "Weights:\n",
            " [[ 2.04348490e-02  1.34352073e-01  8.40748176e-02 -2.59868711e-01\n",
            "  -2.68945664e-01  5.98362423e-02 -1.40216132e-03 -1.00775175e-01\n",
            "  -2.34019741e-01 -5.16703762e-02 -1.58069693e-02 -2.20634900e-02\n",
            "  -5.09102792e-02  1.23018615e-01 -1.73389539e-01  3.32564384e-01\n",
            "   4.50575463e-02  2.02998057e-01  8.78631696e-02  3.83154191e-02\n",
            "  -2.13368639e-01  6.23848587e-02  1.38524512e-04  6.89279586e-02\n",
            "  -4.95438650e-03 -1.25771407e-02 -2.61478294e-02  2.16018364e-01\n",
            "   4.52391990e-02 -1.30929397e-02  3.71142477e-02 -1.79040134e-01\n",
            "  -1.04126520e-01  7.81586953e-03  3.46924365e-03  1.77764962e-03\n",
            "  -6.69081882e-03  3.36505547e-02  1.65759660e-02 -1.65578481e-02\n",
            "  -2.56531071e-02 -4.73568914e-04  7.19678253e-02 -4.58122715e-02\n",
            "   2.76031226e-01 -1.71206798e-02 -3.71486582e-02  7.99848512e-02\n",
            "   1.64461747e-01 -1.48493033e-02  3.23585942e-02  1.98950022e-01\n",
            "   1.51725775e-02  6.32701516e-02  1.16290641e-03 -8.79778527e-03\n",
            "   1.71973526e-01  1.64156154e-01  1.58293918e-02  9.19462889e-02\n",
            "   1.42138690e-01  2.41253246e-02 -1.58532828e-01  3.16716991e-02]] \n",
            "Biases:\n",
            " [ 0.18186475 -0.02373463  0.05366859  0.09714749  0.09255333  0.06851312\n",
            " -0.02170549  0.34095192  0.12159541 -0.36346245  0.0526544   0.07303005\n",
            " -0.35247993 -0.23762159  0.00561037 -0.06069888 -0.26950565 -0.0696282\n",
            " -0.02776529  0.098804    0.25339916  0.20519312 -0.11564586 -0.31533548\n",
            "  0.15083285  0.1146618   0.13666011 -0.12775068  0.14848599  0.12329161\n",
            "  0.12774612  0.15137625  0.03138087  0.10260312  0.1907428  -0.07843766\n",
            "  0.13231653 -0.35056075  0.12937206 -0.01077865 -0.16444641 -0.08483693\n",
            " -0.09977473  0.31823164 -0.12369321  0.22818325  0.10385647  0.13606256\n",
            " -0.27059758 -0.3063738  -0.16271849 -0.06834325 -0.08763939 -0.14869493\n",
            " -0.07206686  0.29650947 -0.04082283 -0.22837403 -0.11639211 -0.2377801\n",
            " -0.02032762  0.37199387  0.2146236   0.04582364]\n",
            "\n",
            "Weights:\n",
            " [[ 0.22169091  0.03501114 -0.1221916   0.19376642 -0.15838338  0.08151668\n",
            "  -0.07740542  0.07219732 -0.13305283 -0.2503936 ]\n",
            " [-0.17958695  0.16952936  0.03327016  0.01902913 -0.08109616  0.04442953\n",
            "   0.00683385 -0.25816396  0.36125058 -0.23647253]\n",
            " [-0.07353452 -0.00563542 -0.19931631 -0.18904386 -0.3298805   0.25548223\n",
            "   0.05682458  0.21525954 -0.15468489  0.2205879 ]\n",
            " [ 0.01142499  0.02620691 -0.16001146  0.18225619 -0.24814734 -0.41870522\n",
            "  -0.17084526  0.0847643   0.00113221  0.3110221 ]\n",
            " [ 0.37623307 -0.15200083  0.18092108  0.3301284  -0.23885824 -0.352723\n",
            "  -0.00094052  0.05670143  0.01176385  0.14104275]\n",
            " [-0.18373248 -0.14424893  0.05969656  0.24157158 -0.14761566  0.26614556\n",
            "   0.13588406  0.19069912 -0.26156998  0.09522494]\n",
            " [-0.07768513 -0.32758468 -0.0500944  -0.08587897 -0.02537932  0.0711925\n",
            "  -0.11750142  0.33856484  0.13208482  0.20643756]\n",
            " [ 0.05223215  0.27092004  0.04544615 -0.1073254   0.2724219  -0.06858551\n",
            "  -0.27304792  0.06348923  0.01276193  0.22862698]\n",
            " [-0.15211342 -0.00162291 -0.1725925   0.2986591   0.30007848 -0.36372972\n",
            "  -0.22069755  0.25053337 -0.10173228  0.11342686]\n",
            " [-0.04019937  0.11004388 -0.13047636  0.12381242  0.34283492 -0.04773457\n",
            "   0.07268173 -0.06342617  0.3741124   0.05812234]\n",
            " [ 0.05998374 -0.35390282  0.12813637 -0.0773449  -0.21776982  0.01100884\n",
            "   0.00744883 -0.03954904 -0.09305913  0.00388723]\n",
            " [-0.07059008  0.07927962  0.27992746 -0.26970065  0.28053296 -0.13296567\n",
            "   0.03015865 -0.13890931  0.04562544  0.10526163]\n",
            " [-0.29528344 -0.06765854  0.2300572   0.15644334 -0.02350843 -0.05742734\n",
            "   0.05910625 -0.04331537  0.23588498  0.11904455]\n",
            " [-0.35644227 -0.11183354 -0.27067462 -0.09852283  0.19205298 -0.03758191\n",
            "   0.16948752  0.01333486  0.16879053 -0.13947357]\n",
            " [ 0.1038277  -0.23191938 -0.05264967  0.30189705 -0.18878047 -0.21960613\n",
            "   0.16140047  0.43695453  0.06631698  0.24007553]\n",
            " [-0.2536835  -0.12812118 -0.03396714 -0.19536659  0.21037821  0.42596626\n",
            "   0.14071952 -0.26943782  0.05099373 -0.3261749 ]\n",
            " [ 0.02828568  0.23754524  0.03507704 -0.08273648 -0.20058827  0.18210173\n",
            "   0.28065285  0.23709702 -0.14595127  0.24346289]\n",
            " [-0.07631549 -0.11619861  0.03590381 -0.07398798  0.02706763  0.33095253\n",
            "   0.16223882 -0.19705726  0.2926533  -0.18973887]\n",
            " [ 0.06979691  0.34354377 -0.07473738  0.2288133  -0.08615123  0.27912003\n",
            "  -0.02834133  0.17086403  0.25583127  0.06233318]\n",
            " [ 0.09209604 -0.3833285  -0.23996277  0.1151282   0.03398047  0.21835124\n",
            "   0.00845353  0.31819543  0.17721552  0.17133886]\n",
            " [-0.08377132 -0.03034084 -0.27170047  0.04491851 -0.22298893 -0.389589\n",
            "   0.10749529  0.20854387  0.15610546  0.11021135]\n",
            " [ 0.00820404  0.19076285 -0.20316304  0.13141109 -0.26274186  0.12515233\n",
            "  -0.07464179  0.07109223 -0.14543548 -0.17864187]\n",
            " [-0.09169137 -0.30985415 -0.06397786  0.13700272  0.35693416  0.01065042\n",
            "   0.0669805   0.08596607  0.08491574  0.10614979]\n",
            " [ 0.07206442  0.13405795  0.26782778 -0.16110498 -0.04885802  0.19139987\n",
            "  -0.04135545  0.26999897 -0.06646193  0.15351117]\n",
            " [-0.00212705  0.23847464  0.18830152 -0.0619122   0.14477085 -0.05623076\n",
            "   0.25878173  0.04784012 -0.00920364 -0.00650663]\n",
            " [ 0.0482003   0.31400478  0.24953648 -0.18263745 -0.12718767 -0.14849907\n",
            "  -0.10628417 -0.21357809  0.2931631   0.06349734]\n",
            " [ 0.09863329 -0.18758996 -0.13329579 -0.20626588  0.09910876 -0.01062655\n",
            "   0.0957737  -0.03228997  0.04644515  0.10475478]\n",
            " [-0.1537113  -0.04655935  0.08400708 -0.07963484 -0.32201573  0.24256949\n",
            "  -0.2351716  -0.00548218  0.26046827 -0.25711417]\n",
            " [-0.07340186  0.20647524 -0.28696474  0.0479879  -0.2983449   0.1758653\n",
            "  -0.1360659  -0.18817861 -0.19379932  0.25879455]\n",
            " [-0.12850125  0.26822388  0.10665451 -0.136027    0.14571571 -0.20747796\n",
            "  -0.28999624 -0.27139574  0.02077013 -0.12018573]\n",
            " [ 0.15004192  0.17748792  0.14166658  0.28161666  0.1452575   0.13209891\n",
            "  -0.16139787  0.21821797 -0.028164   -0.20606819]\n",
            " [ 0.10397229 -0.13832946  0.2083988  -0.23808798 -0.00626982 -0.3275221\n",
            "   0.08433556  0.13354023 -0.23643108  0.09209452]\n",
            " [-0.07811203 -0.2863224   0.04289557  0.32131276  0.29518375 -0.1421619\n",
            "  -0.22931832  0.11347222  0.15738533  0.19468524]\n",
            " [ 0.19033657  0.18277219  0.19170284 -0.2021892   0.13187417 -0.00245641\n",
            "  -0.21178895 -0.10963628 -0.22960074 -0.126694  ]\n",
            " [ 0.20693007 -0.18162975 -0.27653798 -0.04909857 -0.02687094 -0.0299795\n",
            "  -0.20107394 -0.20070864  0.19886461 -0.05792607]\n",
            " [-0.11341409  0.52503407  0.41662827 -0.12226786  0.31181946 -0.1029679\n",
            "  -0.0063147  -0.21832162 -0.12666741 -0.04245556]\n",
            " [ 0.17347041 -0.07782356 -0.10279406 -0.07569363  0.07431418  0.09746016\n",
            "   0.09512786 -0.06145855 -0.03013314  0.16360869]\n",
            " [ 0.16233702 -0.04401469  0.26927927 -0.26469705 -0.18056    -0.02996855\n",
            "  -0.12838805 -0.14742158  0.13261186 -0.03826014]\n",
            " [ 0.1546924   0.14110468 -0.02382833 -0.02542954  0.05650634  0.01220477\n",
            "  -0.08506756 -0.00232453  0.0589663   0.03888568]\n",
            " [-0.07456908  0.29288566  0.39862692 -0.14581996 -0.01885562 -0.13250296\n",
            "   0.22166009 -0.15775666  0.1329305   0.0998079 ]\n",
            " [ 0.19976115  0.25407353 -0.1626264   0.03374828  0.0058141  -0.10224427\n",
            "   0.23962131 -0.28554147 -0.10777473 -0.14602089]\n",
            " [-0.13891566 -0.01258544 -0.00697214  0.21264133  0.00848254  0.01625862\n",
            "   0.16253391 -0.1329208  -0.06131232  0.02798575]\n",
            " [-0.10737005  0.04841664 -0.27312064 -0.0778379   0.15264173  0.22947168\n",
            "  -0.22770426  0.16414444 -0.25557253 -0.10523026]\n",
            " [-0.0124959   0.16350853  0.16080338  0.2720875   0.05709058 -0.16921094\n",
            "  -0.38269576 -0.1071576   0.11586887 -0.14385872]\n",
            " [-0.37312493 -0.37619093  0.02400251 -0.1602939  -0.00069921  0.20818454\n",
            "   0.1616838   0.19185355  0.21760014 -0.19684786]\n",
            " [ 0.01651174 -0.20977657 -0.17117208 -0.09823079  0.18618159 -0.02786065\n",
            "   0.03263966 -0.10033245 -0.19735174 -0.06853098]\n",
            " [-0.09932858 -0.08690302 -0.03913878 -0.21981056 -0.08684906 -0.15831648\n",
            "  -0.16624497  0.07196917  0.23347887 -0.0654664 ]\n",
            " [ 0.12940674  0.20902088 -0.26782134  0.15830831 -0.03080659  0.2154296\n",
            "  -0.08526398  0.12112043  0.06324507  0.04846964]\n",
            " [ 0.17995946 -0.01177396 -0.13170654 -0.20066386  0.23696925  0.34497893\n",
            "  -0.12268929 -0.1138221  -0.06964047  0.06401413]\n",
            " [ 0.14974664 -0.12351058 -0.14733604 -0.19759792  0.11018153 -0.18052359\n",
            "  -0.15590183 -0.01651992  0.12343586 -0.2869995 ]\n",
            " [ 0.11469432  0.10345642 -0.16552106 -0.10960769  0.1354041   0.12820327\n",
            "  -0.0010655   0.1081894  -0.07112689  0.07971977]\n",
            " [-0.15487048 -0.01047772  0.17536649 -0.11444429 -0.00835659  0.31907386\n",
            "  -0.24626799 -0.264835    0.16607696 -0.30035523]\n",
            " [ 0.10429662 -0.11180542 -0.3011647  -0.15165658  0.09739614  0.04984232\n",
            "  -0.15228833  0.17608821 -0.20483659 -0.09526171]\n",
            " [-0.09214187  0.1267572  -0.01665417 -0.25026536 -0.33386096  0.03508754\n",
            "  -0.20035242  0.26127145  0.19978166 -0.10650654]\n",
            " [ 0.16351263  0.24870376  0.2746595   0.06892694  0.28836042 -0.00105734\n",
            "   0.04504255 -0.35527506  0.22047378  0.17408352]\n",
            " [-0.04177142  0.21611668 -0.34342927  0.17629735  0.11778954 -0.07811981\n",
            "   0.06181379  0.08398964  0.02472143  0.08554381]\n",
            " [-0.25931007 -0.03385545  0.10077196 -0.21825509  0.01167922  0.3226341\n",
            "  -0.08836827 -0.25931537  0.23641661 -0.14731987]\n",
            " [ 0.1504921   0.02159223 -0.1126017  -0.13319905  0.18179     0.3096078\n",
            "   0.17228746 -0.05504506  0.25732088  0.19140497]\n",
            " [-0.2641458   0.11977205 -0.16377415  0.10477739 -0.23745456  0.1526934\n",
            "  -0.10605028  0.11891861 -0.16508016  0.10233094]\n",
            " [ 0.03445143 -0.09539907  0.1350086   0.23073861 -0.02749535  0.2404498\n",
            "   0.14294097 -0.19824284 -0.11142931 -0.07502008]\n",
            " [ 0.06347179  0.04656006 -0.00768612 -0.21701035 -0.0717214   0.10963983\n",
            "   0.36348125 -0.19212407  0.28445122 -0.22509328]\n",
            " [ 0.14356719 -0.11487528  0.0999832   0.21026091  0.1933977   0.19796947\n",
            "   0.02910439  0.22459236 -0.0967606   0.03106767]\n",
            " [ 0.18048762  0.21694987 -0.15518086 -0.15342915 -0.03866973 -0.14862414\n",
            "  -0.2766002   0.18603857 -0.1174181   0.10488401]\n",
            " [ 0.12027808  0.43077722  0.17207249  0.04982414 -0.36982507  0.21463685\n",
            "   0.16792527  0.2911232   0.19423512  0.2986544 ]] \n",
            "Biases:\n",
            " [-0.08248486 -0.10871096  0.03215154 -0.06298437 -0.01278591  0.09443915\n",
            "  0.03924788 -0.04347773  0.07299554 -0.07525641]\n",
            "\n",
            "Weights:\n",
            " [[-0.17000932]\n",
            " [ 0.00072775]\n",
            " [ 0.00892283]\n",
            " [-0.14577496]\n",
            " [ 0.01540238]\n",
            " [ 0.5186297 ]\n",
            " [ 0.04186466]\n",
            " [-0.12191479]\n",
            " [ 0.1416723 ]\n",
            " [-0.22391896]] \n",
            "Biases:\n",
            " [0.15171821]\n"
          ]
        }
      ]
    }
  ]
}