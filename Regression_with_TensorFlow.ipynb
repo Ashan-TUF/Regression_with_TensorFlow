{
  "nbformat": 4,
  "nbformat_minor": 0,
  "metadata": {
    "colab": {
      "provenance": [],
      "authorship_tag": "ABX9TyPE3ECQgaD3xTg5ZhyRkxih",
      "include_colab_link": true
    },
    "kernelspec": {
      "name": "python3",
      "display_name": "Python 3"
    },
    "language_info": {
      "name": "python"
    }
  },
  "cells": [
    {
      "cell_type": "markdown",
      "metadata": {
        "id": "view-in-github",
        "colab_type": "text"
      },
      "source": [
        "<a href=\"https://colab.research.google.com/github/Ashan-TUF/Regression_with_TensorFlow/blob/main/Regression_with_TensorFlow.ipynb\" target=\"_parent\"><img src=\"https://colab.research.google.com/assets/colab-badge.svg\" alt=\"Open In Colab\"/></a>"
      ]
    },
    {
      "cell_type": "code",
      "execution_count": null,
      "metadata": {
        "id": "CBBVYR-u3q5A"
      },
      "outputs": [],
      "source": [
        "import tensorflow as tf"
      ]
    },
    {
      "cell_type": "code",
      "source": [
        "tf.__version__"
      ],
      "metadata": {
        "colab": {
          "base_uri": "https://localhost:8080/",
          "height": 35
        },
        "id": "KH0DpBnX5V-y",
        "outputId": "eb584164-95f7-4b5b-93af-88d26118bcf4"
      },
      "execution_count": null,
      "outputs": [
        {
          "output_type": "execute_result",
          "data": {
            "text/plain": [
              "'2.18.0'"
            ],
            "application/vnd.google.colaboratory.intrinsic+json": {
              "type": "string"
            }
          },
          "metadata": {},
          "execution_count": 2
        }
      ]
    },
    {
      "cell_type": "markdown",
      "source": [
        "#Create a Model"
      ],
      "metadata": {
        "id": "XamsSgeW5b4p"
      }
    },
    {
      "cell_type": "code",
      "source": [
        "model = tf.keras.Sequential([\n",
        "    tf.keras.layers.Dense(4,input_shape=[1]),\n",
        "    tf.keras.layers.Dense(1)\n",
        "    ])"
      ],
      "metadata": {
        "id": "HpmBtCCH54CD"
      },
      "execution_count": null,
      "outputs": []
    },
    {
      "cell_type": "markdown",
      "source": [
        "#Compile the Model"
      ],
      "metadata": {
        "id": "oNYYTJtB6HqC"
      }
    },
    {
      "cell_type": "code",
      "source": [
        "model.compile(loss = tf.keras.losses.mae,\n",
        "              optimizer = tf.keras.optimizers.Adam(learning_rate=0.01),\n",
        "              metrics = [\"mae\"])"
      ],
      "metadata": {
        "id": "t8ZRo3EA6I2R"
      },
      "execution_count": null,
      "outputs": []
    },
    {
      "cell_type": "markdown",
      "source": [
        "#Train the Model"
      ],
      "metadata": {
        "id": "b7l8-0Zv6eWb"
      }
    },
    {
      "cell_type": "code",
      "source": [
        "epoch_number = 10\n",
        "history = model.fit(tf.expand_dims(X_train, axis=-1), y_train, epochs=epoch_number)"
      ],
      "metadata": {
        "id": "G31SM90O6huS"
      },
      "execution_count": null,
      "outputs": []
    },
    {
      "cell_type": "code",
      "source": [],
      "metadata": {
        "id": "Ilv7B0M36zSq"
      },
      "execution_count": null,
      "outputs": []
    }
  ]
}